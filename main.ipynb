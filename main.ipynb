{
 "cells": [
  {
   "cell_type": "code",
   "execution_count": 56,
   "metadata": {},
   "outputs": [],
   "source": [
    "import mediapipe as mp\n",
    "import cv2\n",
    "import numpy as np\n",
    "import os"
   ]
  },
  {
   "cell_type": "code",
   "execution_count": 57,
   "metadata": {},
   "outputs": [],
   "source": [
    "# Inisialisasi MediaPipe FaceMesh\n",
    "mp_face_mesh = mp.solutions.face_mesh\n",
    "face_mesh = mp_face_mesh.FaceMesh(static_image_mode=False, max_num_faces=1, refine_landmarks=True)"
   ]
  },
  {
   "cell_type": "code",
   "execution_count": 58,
   "metadata": {},
   "outputs": [],
   "source": [
    "# Fungsi untuk menempatkan gambar hewan pada wajah\n",
    "def overlay_animal(image, landmarks, animal_image, scale_factor=0.4, max_height=200):\n",
    "    h, w, _ = image.shape\n",
    "    ah, aw, _ = animal_image.shape\n",
    "\n",
    "    # Landmark untuk mulut\n",
    "    top_lip = landmarks[13]  # Landmark bibir atas\n",
    "    bottom_lip = landmarks[14]  # Landmark bibir bawah\n",
    "\n",
    "    # Koordinat mulut pengguna\n",
    "    mouth_top = (int(top_lip.x * w), int(top_lip.y * h))\n",
    "    mouth_bottom = (int(bottom_lip.x * w), int(bottom_lip.y * h))\n",
    "    mouth_center = (mouth_top[0], (mouth_top[1] + mouth_bottom[1]) // 2)\n",
    "\n",
    "    # Hitung jarak pembukaan mulut\n",
    "    mouth_opening = abs(mouth_bottom[1] - mouth_top[1])\n",
    "\n",
    "    # Pastikan pembukaan mulut cukup besar untuk mengubah ukuran gambar\n",
    "    if mouth_opening < 5:  # Ambang batas pembukaan mulut yang terlalu kecil\n",
    "        mouth_opening = 5  # Setel ke nilai minimum yang valid\n",
    "\n",
    "    # Sesuaikan tinggi gambar katak dengan pembukaan mulut secara vertikal\n",
    "    new_height = int(ah + mouth_opening * scale_factor)  # Tinggi bertambah seiring pembukaan mulut\n",
    "    new_width = int(aw * scale_factor)  # Lebar tetap, hanya tinggi yang berubah\n",
    "\n",
    "    # Batasi tinggi gambar katak agar tidak terlalu besar\n",
    "    new_height = min(new_height, max_height)  # Batasi tinggi maksimal\n",
    "\n",
    "    # Pastikan ukuran baru tidak kurang dari 1\n",
    "    new_height = max(new_height, 1)\n",
    "    new_width = max(new_width, 1)\n",
    "\n",
    "    resized_frog = cv2.resize(animal_image, (new_width, new_height))  # Sesuaikan ukuran\n",
    "    ah, aw, _ = resized_frog.shape\n",
    "\n",
    "    # Tempelkan gambar katak di sekitar mulut\n",
    "    y_offset = mouth_center[1] - ah // 2\n",
    "    x_offset = mouth_center[0] - aw // 2\n",
    "\n",
    "    # Validasi koordinat agar tidak keluar batas\n",
    "    y1, y2 = max(0, y_offset), min(h, y_offset + ah)\n",
    "    x1, x2 = max(0, x_offset), min(w, x_offset + aw)\n",
    "\n",
    "    # Sesuaikan ukuran overlay agar sesuai dengan frame\n",
    "    overlay_y1, overlay_y2 = max(0, -y_offset), ah - max(0, (y_offset + ah) - h)\n",
    "    overlay_x1, overlay_x2 = max(0, -x_offset), aw - max(0, (x_offset + aw) - w)\n",
    "\n",
    "    for c in range(3):  # Untuk setiap channel warna (RGB)\n",
    "        alpha = resized_frog[overlay_y1:overlay_y2, overlay_x1:overlay_x2, 3] / 255.0\n",
    "        image[y1:y2, x1:x2, c] = (\n",
    "            alpha * resized_frog[overlay_y1:overlay_y2, overlay_x1:overlay_x2, c]\n",
    "            + (1 - alpha) * image[y1:y2, x1:x2, c]\n",
    "        )\n",
    "\n",
    "    return image"
   ]
  },
  {
   "cell_type": "code",
   "execution_count": 59,
   "metadata": {},
   "outputs": [],
   "source": [
    "# Path ke gambar hewan (katak)\n",
    "animal_image_path = os.path.join(os.getcwd(), 'data', 'frog.png')\n",
    "\n",
    "# Muat gambar hewan (katak dengan transparansi)\n",
    "animal_image = cv2.imread(animal_image_path, cv2.IMREAD_UNCHANGED)"
   ]
  },
  {
   "cell_type": "code",
   "execution_count": 60,
   "metadata": {},
   "outputs": [],
   "source": [
    "# Mulai kamera\n",
    "cap = cv2.VideoCapture(0)\n",
    "\n",
    "while cap.isOpened():\n",
    "    success, frame = cap.read()\n",
    "    if not success:\n",
    "        print(\"Tidak dapat mengakses kamera.\")\n",
    "        break\n",
    "\n",
    "    # Konversi gambar ke RGB\n",
    "    rgb_frame = cv2.cvtColor(frame, cv2.COLOR_BGR2RGB)\n",
    "    results = face_mesh.process(rgb_frame)\n",
    "\n",
    "    # Jika wajah terdeteksi\n",
    "    if results.multi_face_landmarks:\n",
    "        for face_landmarks in results.multi_face_landmarks:\n",
    "            landmarks = face_landmarks.landmark\n",
    "            frame = overlay_animal(frame, landmarks, animal_image)\n",
    "\n",
    "    # Tampilkan hasil\n",
    "    cv2.imshow(\"Animal Filter\", frame)\n",
    "\n",
    "    # Tombol 'ESC' untuk keluar\n",
    "    if cv2.waitKey(5) & 0xFF == 27:\n",
    "        break\n",
    "\n",
    "cap.release()\n",
    "cv2.destroyAllWindows()"
   ]
  }
 ],
 "metadata": {
  "kernelspec": {
   "display_name": "py310_multimedia",
   "language": "python",
   "name": "python3"
  },
  "language_info": {
   "codemirror_mode": {
    "name": "ipython",
    "version": 3
   },
   "file_extension": ".py",
   "mimetype": "text/x-python",
   "name": "python",
   "nbconvert_exporter": "python",
   "pygments_lexer": "ipython3",
   "version": "3.10.15"
  }
 },
 "nbformat": 4,
 "nbformat_minor": 2
}
